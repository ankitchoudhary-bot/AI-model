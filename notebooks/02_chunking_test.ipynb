{
 "cells": [
  {
   "cell_type": "code",
   "execution_count": null,
   "id": "eec8423a",
   "metadata": {},
   "outputs": [
    {
     "name": "stdout",
     "output_type": "stream",
     "text": [
      "Collecting matplotlib\n",
      "  Using cached matplotlib-3.10.6-cp312-cp312-win_amd64.whl.metadata (11 kB)\n",
      "Collecting contourpy>=1.0.1 (from matplotlib)\n",
      "  Using cached contourpy-1.3.3-cp312-cp312-win_amd64.whl.metadata (5.5 kB)\n",
      "Collecting cycler>=0.10 (from matplotlib)\n",
      "  Using cached cycler-0.12.1-py3-none-any.whl.metadata (3.8 kB)\n",
      "Collecting fonttools>=4.22.0 (from matplotlib)\n",
      "  Using cached fonttools-4.60.1-cp312-cp312-win_amd64.whl.metadata (114 kB)\n",
      "Collecting kiwisolver>=1.3.1 (from matplotlib)\n",
      "  Using cached kiwisolver-1.4.9-cp312-cp312-win_amd64.whl.metadata (6.4 kB)\n",
      "Requirement already satisfied: numpy>=1.23 in c:\\users\\91966\\downloads\\ai_model_2\\.venv\\lib\\site-packages (from matplotlib) (2.3.3)\n",
      "Requirement already satisfied: packaging>=20.0 in c:\\users\\91966\\downloads\\ai_model_2\\.venv\\lib\\site-packages (from matplotlib) (25.0)\n",
      "Requirement already satisfied: pillow>=8 in c:\\users\\91966\\downloads\\ai_model_2\\.venv\\lib\\site-packages (from matplotlib) (11.3.0)\n",
      "Collecting pyparsing>=2.3.1 (from matplotlib)\n",
      "  Using cached pyparsing-3.2.5-py3-none-any.whl.metadata (5.0 kB)\n",
      "Requirement already satisfied: python-dateutil>=2.7 in c:\\users\\91966\\downloads\\ai_model_2\\.venv\\lib\\site-packages (from matplotlib) (2.9.0.post0)\n",
      "Requirement already satisfied: six>=1.5 in c:\\users\\91966\\downloads\\ai_model_2\\.venv\\lib\\site-packages (from python-dateutil>=2.7->matplotlib) (1.17.0)\n",
      "Using cached matplotlib-3.10.6-cp312-cp312-win_amd64.whl (8.1 MB)\n",
      "Using cached contourpy-1.3.3-cp312-cp312-win_amd64.whl (226 kB)\n",
      "Using cached cycler-0.12.1-py3-none-any.whl (8.3 kB)\n",
      "Using cached fonttools-4.60.1-cp312-cp312-win_amd64.whl (2.3 MB)\n",
      "Using cached kiwisolver-1.4.9-cp312-cp312-win_amd64.whl (73 kB)\n",
      "Using cached pyparsing-3.2.5-py3-none-any.whl (113 kB)\n",
      "Installing collected packages: pyparsing, kiwisolver, fonttools, cycler, contourpy, matplotlib\n",
      "Successfully installed contourpy-1.3.3 cycler-0.12.1 fonttools-4.60.1 kiwisolver-1.4.9 matplotlib-3.10.6 pyparsing-3.2.5\n"
     ]
    },
    {
     "name": "stderr",
     "output_type": "stream",
     "text": [
      "\n",
      "[notice] A new release of pip is available: 24.2 -> 25.2\n",
      "[notice] To update, run: python.exe -m pip install --upgrade pip\n"
     ]
    }
   ],
   "source": [
    "! pip install matplotlib"
   ]
  },
  {
   "cell_type": "code",
   "execution_count": null,
   "id": "d785dee8",
   "metadata": {},
   "outputs": [],
   "source": [
    "from pathlib import Path\n",
    "import nltk\n",
    "import re\n",
    "import json\n",
    "nltk.download('punkt')"
   ]
  },
  {
   "cell_type": "code",
   "execution_count": null,
   "id": "cf9b6e3a",
   "metadata": {},
   "outputs": [],
   "source": [
    "# --- Configuration ---\n",
    "DATA_DIR = Path('../data')\n",
    "OUTPUT_DIR = Path('../notebooks/output')\n",
    "OUTPUT_DIR.mkdir(exist_ok=True)"
   ]
  },
  {
   "cell_type": "code",
   "execution_count": null,
   "id": "4524e61d",
   "metadata": {},
   "outputs": [
    {
     "name": "stderr",
     "output_type": "stream",
     "text": [
      "[nltk_data] Downloading package punkt to\n",
      "[nltk_data]     C:\\Users\\91966\\AppData\\Roaming\\nltk_data...\n",
      "[nltk_data]   Package punkt is already up-to-date!\n"
     ]
    },
    {
     "name": "stdout",
     "output_type": "stream",
     "text": [
      "Found 1 cleaned text file(s): ['AI_Training_Document_cleaned.txt']\n",
      "Created 3 chunks from AI_Training_Document_cleaned.txt\n",
      "\n",
      "--- Chunk 1 (276 words) ---\n",
      "User Agreement \n",
      "1. Introduction \n",
      "This User Agreement, the Mobile Application Terms of Use, and all policies and additional terms \n",
      "posted on and in our sites, applications, tools, and services (collectively \"Services\") set out the terms \n",
      "on which eBay offers you access to and use of our Services. You can find an overview of our policies \n",
      "here. The Mobile Application Terms of Use, all policies, and ...\n",
      "\n",
      "--- Chunk 2 (274 words) ---\n",
      "It also contains an Agreement to Arbitrate which will, with limited \n",
      "exception, require you to submit claims you have against us or related third parties to binding and \n",
      "final arbitration, unless you opt out of the Agreement to Arbitrate in accordance with section 19.B.9 \n",
      "(see Legal Disputes, Section B (\"Agreement to Arbitrate\")). If you do not opt out: (1) you will only be \n",
      "permitted to pursue cl...\n",
      "\n",
      "--- Chunk 3 (35 words) ---\n",
      "Unless otherwise \n",
      "expressly provided, eBay has no control over and does not guarantee: the existence, quality, safety, \n",
      "or legality of items advertised; the truth or accuracy of users' content or listings; the ability of sellers...\n",
      "\n",
      "Saved chunk data to ..\\notebooks\\output\\AI_Training_Document_cleaned_chunks.jsonl\n"
     ]
    },
    {
     "data": {
      "image/png": "[encoded data removed]",
      "text/plain": [
       "<Figure size 800x400 with 1 Axes>"
      ]
     },
     "metadata": {},
     "output_type": "display_data"
    }
   ],
   "source": [
    "\n",
    "# --- Helper functions ---\n",
    "def clean_text(text: str) -> str:\n",
    "    text = re.sub(r'\\r', '\\n', text)\n",
    "    text = re.sub(r'\\n{2,}', '\\n', text)\n",
    "    text = re.sub(r' {2,}', ' ', text)\n",
    "    return text.strip()\n",
    "\n",
    "\n",
    "def chunk_text_sentence_aware(text: str, min_words: int = 100, max_words: int = 300):\n",
    "    sentences = nltk.sent_tokenize(text)\n",
    "    chunks = []\n",
    "    current, current_words = [], 0\n",
    "    for sent in sentences:\n",
    "        w = len(sent.split())\n",
    "        if current_words + w > max_words:\n",
    "            if current_words >= min_words:\n",
    "                chunks.append(' '.join(current).strip())\n",
    "                current = [sent]\n",
    "                current_words = w\n",
    "            else:\n",
    "                current.append(sent)\n",
    "                chunks.append(' '.join(current).strip())\n",
    "                current, current_words = [], 0\n",
    "        else:\n",
    "            current.append(sent)\n",
    "            current_words += w\n",
    "    if current:\n",
    "        chunks.append(' '.join(current).strip())\n",
    "    return chunks\n",
    "\n",
    "\n",
    "# --- Load cleaned text from previous notebook ---\n",
    "cleaned_files = list(OUTPUT_DIR.glob('*_cleaned.txt'))\n",
    "print(f\"Found {len(cleaned_files)} cleaned text file(s):\", [p.name for p in cleaned_files])\n",
    "\n",
    "\n",
    "if cleaned_files:\n",
    "    sample_path = cleaned_files[0]\n",
    "    text = sample_path.read_text(encoding='utf-8')\n",
    "    chunks = chunk_text_sentence_aware(text)\n",
    "    print(f\"Created {len(chunks)} chunks from {sample_path.name}\")\n",
    "\n",
    "\n",
    "    # Inspect a few chunks\n",
    "    for i, ch in enumerate(chunks[:3]):\n",
    "        print(f\"\\n--- Chunk {i+1} ({len(ch.split())} words) ---\\n{ch[:400]}...\")\n",
    "\n",
    "\n",
    "    # Save all chunks for reference\n",
    "    out_json = OUTPUT_DIR / f\"{sample_path.stem}_chunks.jsonl\"\n",
    "    with open(out_json, 'w', encoding='utf-8') as f:\n",
    "        for i, ch in enumerate(chunks):\n",
    "            rec = {\"id\": i, \"text\": ch, \"word_count\": len(ch.split())}\n",
    "            f.write(json.dumps(rec, ensure_ascii=False) + '\\n')\n",
    "    print(f\"\\nSaved chunk data to {out_json}\")\n",
    "\n",
    "\n",
    "import matplotlib.pyplot as plt\n",
    "\n",
    "\n",
    "if cleaned_files:\n",
    "    lengths = [len(ch.split()) for ch in chunks]\n",
    "    plt.figure(figsize=(8, 4))\n",
    "    plt.hist(lengths, bins=20, edgecolor='black')\n",
    "    plt.title('Chunk Word Count Distribution')\n",
    "    plt.xlabel('Words per chunk')\n",
    "    plt.ylabel('Frequency')\n",
    "    plt.show()\n"
   ]
  }
 ],
 "metadata": {
  "kernelspec": {
   "display_name": ".venv (3.12.6)",
   "language": "python",
   "name": "python3"
  },
  "language_info": {
   "codemirror_mode": {
    "name": "ipython",
    "version": 3
   },
   "file_extension": ".py",
   "mimetype": "text/x-python",
   "name": "python",
   "nbconvert_exporter": "python",
   "pygments_lexer": "ipython3",
   "version": "3.12.6"
  }
 },
 "nbformat": 4,
 "nbformat_minor": 5
}
