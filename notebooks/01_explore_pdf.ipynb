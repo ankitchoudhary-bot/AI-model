{
 "cells": [
  {
   "cell_type": "code",
   "execution_count": 1,
   "id": "274d2070",
   "metadata": {},
   "outputs": [
    {
     "name": "stdout",
     "output_type": "stream",
     "text": [
      "Found 1 PDF(s): ['AI_Training_Document.pdf']\n",
      "Reading: AI_Training_Document.pdf\n",
      "\n",
      "Raw length: 3638 chars | Cleaned length: 3637 chars\n",
      "\n",
      "--- First 10 lines (cleaned) ---\n",
      "\n",
      "01: User Agreement \n",
      "02: 1. Introduction \n",
      "03: This User Agreement, the Mobile Application Terms of Use, and all policies and additional terms \n",
      "04: posted on and in our sites, applications, tools, and services (collectively \"Services\") set out the terms \n",
      "05: on which eBay offers you access to and use of our Services. You can find an overview of our policies \n",
      "06: here. The Mobile Application Terms of Use, all policies, and additional terms posted on and in our \n",
      "07: Services are incorporated into this User Agreement. You agree to comply with all terms of this User \n",
      "08: Agreement when accessing or using our Services. \n",
      "09: The entity you are contracting with is: eBay Inc., 2025 Hamilton Ave., San Jose, CA 95125, if you \n",
      "10: reside in the United States; eBay (UK) Limited, 1 More London Place, London, SE1 2AF, United \n",
      "\n",
      "Saved cleaned text to ..\\notebooks\\output\\AI_Training_Document_cleaned.txt\n"
     ]
    }
   ],
   "source": [
    "from pathlib import Path\n",
    "from pypdf import PdfReader\n",
    "import re\n",
    "\n",
    "DATA_DIR = Path('../data')\n",
    "PDF_FILES = list(DATA_DIR.glob('*.pdf'))\n",
    "print(f\"Found {len(PDF_FILES)} PDF(s):\", [p.name for p in PDF_FILES])\n",
    "\n",
    "def read_pdf_text(path: Path) -> str:\n",
    "    reader = PdfReader(str(path))\n",
    "    pages = []\n",
    "    for p in reader.pages:\n",
    "        text = p.extract_text() or \"\"\n",
    "        pages.append(text)\n",
    "    return \"\\n\".join(pages)\n",
    "\n",
    "def clean_text(text: str) -> str:\n",
    "    text = re.sub(r'\\r', '\\n', text)\n",
    "    text = re.sub(r'\\n{2,}', '\\n', text)\n",
    "    text = re.sub(r' {2,}', ' ', text)\n",
    "    return text.strip()\n",
    "\n",
    "if PDF_FILES:\n",
    "    sample_pdf = PDF_FILES[0]\n",
    "    print(f\"Reading: {sample_pdf.name}\\n\")\n",
    "    raw_text = read_pdf_text(sample_pdf)\n",
    "    cleaned_text = clean_text(raw_text)\n",
    "\n",
    "    print(f\"Raw length: {len(raw_text)} chars | Cleaned length: {len(cleaned_text)} chars\")\n",
    "\n",
    "    # Show first few lines\n",
    "    print(\"\\n--- First 10 lines (cleaned) ---\\n\")\n",
    "    for i, line in enumerate(cleaned_text.split('\\n')[:10]):\n",
    "        print(f\"{i+1:02d}: {line}\")\n",
    "\n",
    "# --- Optional: Save cleaned output for inspection ---\n",
    "OUTPUT_DIR = Path('../notebooks/output')\n",
    "OUTPUT_DIR.mkdir(exist_ok=True)\n",
    "\n",
    "if PDF_FILES:\n",
    "    out_file = OUTPUT_DIR / f\"{sample_pdf.stem}_cleaned.txt\"\n",
    "    with open(out_file, 'w', encoding='utf-8') as f:\n",
    "        f.write(cleaned_text)\n",
    "    print(f\"\\nSaved cleaned text to {out_file}\")\n"
   ]
  }
 ],
 "metadata": {
  "kernelspec": {
   "display_name": ".venv (3.12.6)",
   "language": "python",
   "name": "python3"
  },
  "language_info": {
   "codemirror_mode": {
    "name": "ipython",
    "version": 3
   },
   "file_extension": ".py",
   "mimetype": "text/x-python",
   "name": "python",
   "nbconvert_exporter": "python",
   "pygments_lexer": "ipython3",
   "version": "3.12.6"
  }
 },
 "nbformat": 4,
 "nbformat_minor": 5
}
